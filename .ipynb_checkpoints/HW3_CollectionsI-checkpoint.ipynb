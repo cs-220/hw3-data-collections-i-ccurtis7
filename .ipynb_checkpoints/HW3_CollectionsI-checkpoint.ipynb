{
 "cells": [
  {
   "cell_type": "markdown",
   "id": "c7f9967a",
   "metadata": {},
   "source": [
    "# Problem 1\n",
    "\n",
    "Write an automated censor program that reads in the text from a file and creates a new file where all of the four-letter words have been replaced by \"\\*\\*\\*\\*\". You can ignore punctuation, and you may assume that no words in the file are split across multiple lines. Test it out on an input file of your own design."
   ]
  },
  {
   "cell_type": "code",
   "execution_count": null,
   "id": "edcf345f",
   "metadata": {},
   "outputs": [],
   "source": []
  },
  {
   "cell_type": "markdown",
   "id": "deea72d1",
   "metadata": {},
   "source": [
    "# Problem 2\n",
    "\n",
    "Create a class `Deck` that represents a deck of cards. Your class should have the following methods:\n",
    "\n",
    "* *constructor*: Creates a new deck of 52 cards in a standard order\n",
    "* *shuffle*: Randomizes the order of the cards\n",
    "* *dealCard*: Returns a single card from the top of the deck and remove the card from the deck\n",
    "* *cardsLeft*: Returns the number of cards remaining in the deck\n",
    "\n",
    "Test your program by having it deal out a sequence of n cards from a shuffled deck where n is a user input."
   ]
  },
  {
   "cell_type": "code",
   "execution_count": null,
   "id": "5960db0b",
   "metadata": {},
   "outputs": [],
   "source": []
  }
 ],
 "metadata": {
  "kernelspec": {
   "display_name": "Python 3",
   "language": "python",
   "name": "python3"
  },
  "language_info": {
   "codemirror_mode": {
    "name": "ipython",
    "version": 3
   },
   "file_extension": ".py",
   "mimetype": "text/x-python",
   "name": "python",
   "nbconvert_exporter": "python",
   "pygments_lexer": "ipython3",
   "version": "3.8.8"
  }
 },
 "nbformat": 4,
 "nbformat_minor": 5
}
